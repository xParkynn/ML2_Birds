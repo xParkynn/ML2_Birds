{
 "cells": [
  {
   "cell_type": "code",
   "execution_count": 1,
   "id": "bfff1352",
   "metadata": {},
   "outputs": [],
   "source": [
    "import torch\n",
    "import torch.nn as nn               \n",
    "import torch.nn.functional as F       \n",
    "import torch.optim as optim            \n",
    "from torch.utils.data import Dataset, DataLoader \n",
    "\n",
    "import torchaudio\n",
    "import torchaudio.transforms as T   \n",
    "import numpy as np                     \n",
    "import pandas as pd                   \n",
    "\n",
    "import matplotlib.pyplot as plt\n",
    "\n",
    "import os\n",
    "import torchvision.transforms as T\n",
    "\n",
    "from collections import OrderedDict, defaultdict\n",
    "\n",
    "device = \"cuda\" if torch.cuda.is_available() else \"cpu\"\n"
   ]
  },
  {
   "cell_type": "code",
   "execution_count": 2,
   "id": "3113644e",
   "metadata": {},
   "outputs": [],
   "source": [
    "EPOCHS = 25\n",
    "INIT_LR = 1e-3\n",
    "WEIGHT_DECAY = 1e-2\n",
    "BATCH_SIZE = 64\n",
    "LOSS = torch.nn.CrossEntropyLoss()\n",
    "\n",
    "\n",
    "\n",
    "#model = CNNClassifier(num_classes=206)\n",
    "#optimizer = optim.AdamW(model.parameters(), lr=INIT_LR, weight_decay=1e-2)"
   ]
  },
  {
   "cell_type": "code",
   "execution_count": 3,
   "id": "b51ca853",
   "metadata": {},
   "outputs": [],
   "source": [
    "import torch\n",
    "from torch.utils.data import Dataset\n",
    "import torch.nn.functional as F\n",
    "import os\n",
    "import json\n",
    "from collections import OrderedDict\n",
    "import torchvision.transforms as T\n",
    "\n",
    "class ViTSpectogramDataset(Dataset):\n",
    "    def __init__(self, audio_dir, label_to_idx, max_cache_size=5):\n",
    "        self.label_to_idx = label_to_idx\n",
    "        self.audio_dir = audio_dir\n",
    "        self.chunk_index_pairs = []\n",
    "        self.cache = OrderedDict()\n",
    "        self.max_cache_size = max_cache_size\n",
    "\n",
    "        with open('./dataset_init.json', 'r') as file:\n",
    "            data = json.load(file)\n",
    "\n",
    "        for path in self.audio_dir:\n",
    "            label = os.path.basename(path).replace(\".pt\", \"\")\n",
    "            amount_of_chunks = data[label]\n",
    "            for n in range(amount_of_chunks):\n",
    "                self.chunk_index_pairs.append((path, label.split('_')[0], n))\n",
    "\n",
    "\n",
    "    def load_cached_tensor(self, file_path):\n",
    "        if file_path in self.cache:\n",
    "            self.cache.move_to_end(file_path)\n",
    "        else:\n",
    "            tensor = torch.load(file_path)\n",
    "            self.cache[file_path] = tensor\n",
    "            if len(self.cache) > self.max_cache_size:\n",
    "                self.cache.popitem(last=False)\n",
    "        return self.cache[file_path]\n",
    "\n",
    "    def __len__(self):\n",
    "        return len(self.chunk_index_pairs)\n",
    "    \n",
    "    def __getitem__(self, idx):\n",
    "        file_path, label, chunk_index = self.chunk_index_pairs[idx]\n",
    "        tensor = self.load_cached_tensor(file_path)\n",
    "        chunk = tensor[chunk_index].to(torch.float32)\n",
    "        if chunk.size(0) == 1:\n",
    "            chunk = chunk.repeat(3, 1, 1)\n",
    "        chunk = F.interpolate(chunk.unsqueeze(0), size=(224, 224), mode='bilinear', align_corners=False).squeeze(0)\n",
    "\n",
    "        if label in self.label_to_idx:\n",
    "            label_index = self.label_to_idx[label]\n",
    "        else:\n",
    "            print(f\"[WARNING] Label '{label}' not found in label_to_idx for file {file_path}\")\n",
    "            raise ValueError(f\"Label '{label}' not found in label_to_idx\")\n",
    "        return chunk, label_index\n"
   ]
  },
  {
   "cell_type": "code",
   "execution_count": 4,
   "id": "6f1a4988",
   "metadata": {},
   "outputs": [],
   "source": [
    "import os\n",
    "\n",
    "train_files, test_files = [], []\n",
    "label_to_idx = dict()\n",
    "for idx, file in enumerate(sorted(os.listdir('./data/processed_train_audio'))):\n",
    "    path = f'./data/processed_train_audio/{file}'\n",
    "    if '_train' in file:\n",
    "        train_files.append(path)\n",
    "        label_to_idx[file.split('_')[0]] = idx // 2  # or use len(label_to_idx) for unique index\n",
    "    elif '_test' in file:\n",
    "        test_files.append(path)\n"
   ]
  },
  {
   "cell_type": "code",
   "execution_count": 5,
   "id": "267ccaf0",
   "metadata": {},
   "outputs": [],
   "source": [
    "train_dataset = ViTSpectogramDataset(train_files, label_to_idx)\n",
    "test_dataset = ViTSpectogramDataset(test_files, label_to_idx)\n"
   ]
  },
  {
   "cell_type": "code",
   "execution_count": 6,
   "id": "cc374515",
   "metadata": {},
   "outputs": [
    {
     "name": "stdout",
     "output_type": "stream",
     "text": [
      "Train dataset size: 60900\n",
      "Test dataset size: 60900\n",
      "Sample shape: torch.Size([3, 224, 224])\n",
      "Label index: 0\n"
     ]
    }
   ],
   "source": [
    "print(\"Train dataset size:\", len(train_dataset))\n",
    "print(\"Test dataset size:\", len(test_dataset))\n",
    "\n",
    "sample, label_index = train_dataset[0]\n",
    "print(\"Sample shape:\", sample.shape)\n",
    "print(\"Label index:\", label_index)\n"
   ]
  },
  {
   "cell_type": "code",
   "execution_count": 7,
   "id": "3f51515d",
   "metadata": {},
   "outputs": [],
   "source": [
    "from torch.utils.data import DataLoader\n",
    "\n",
    "BATCH_SIZE = BATCH_SIZE  \n",
    "train_loader = DataLoader(train_dataset, batch_size=BATCH_SIZE, shuffle=True, num_workers=0, persistent_workers=False)\n",
    "test_loader = DataLoader(test_dataset, batch_size=BATCH_SIZE, shuffle=False, num_workers=0, persistent_workers=False)\n"
   ]
  },
  {
   "cell_type": "code",
   "execution_count": 8,
   "id": "b4638bfc",
   "metadata": {},
   "outputs": [
    {
     "name": "stderr",
     "output_type": "stream",
     "text": [
      "/Users/inoussaadouba/ML_Projects/.venv/lib/python3.11/site-packages/tqdm/auto.py:21: TqdmWarning: IProgress not found. Please update jupyter and ipywidgets. See https://ipywidgets.readthedocs.io/en/stable/user_install.html\n",
      "  from .autonotebook import tqdm as notebook_tqdm\n"
     ]
    }
   ],
   "source": [
    "import timm\n",
    "import torch.nn as nn\n",
    "\n",
    "num_classes = len(label_to_idx)\n",
    "model = timm.create_model(\"vit_base_patch16_224\", pretrained=True)\n",
    "model.head = nn.Linear(model.head.in_features, num_classes)\n",
    "device = torch.device(\"mps\" if torch.backends.mps.is_available() else \"cpu\")\n",
    "model = model.to(device)\n"
   ]
  },
  {
   "cell_type": "code",
   "execution_count": 9,
   "id": "e1e9b293",
   "metadata": {},
   "outputs": [],
   "source": [
    "loss_fn = nn.CrossEntropyLoss()\n",
    "optimizer = torch.optim.AdamW(model.parameters(), lr=1e-4, weight_decay=1e-2)\n"
   ]
  },
  {
   "cell_type": "code",
   "execution_count": null,
   "id": "de501264",
   "metadata": {},
   "outputs": [
    {
     "name": "stderr",
     "output_type": "stream",
     "text": [
      "Training epoch 0:   0%|          | 0/952 [00:00<?, ?it/s]"
     ]
    }
   ],
   "source": [
    "from sklearn.metrics import accuracy_score, precision_score, recall_score, f1_score\n",
    "from tqdm import tqdm\n",
    "import torch\n",
    "\n",
    "best_f1 = 0.0\n",
    "best_model_path = \"best_vit_model.pth\"\n",
    "model = model.to(device)\n",
    "for epoch in range(EPOCHS):\n",
    "    model.train()\n",
    "    train_loss = 0\n",
    "\n",
    "    for batch_idx, (data, target) in enumerate(tqdm(train_loader, desc=f\"Training epoch {epoch}\")):\n",
    "        data = data.to(device)\n",
    "        target = target.to(device)\n",
    "        optimizer.zero_grad()\n",
    "        output = model(data)\n",
    "        loss = loss_fn(output, target)\n",
    "        loss.backward()\n",
    "        optimizer.step()\n",
    "        train_loss += loss.item()\n",
    "    avg_train_loss = train_loss / len(train_loader)\n",
    "    print(f\"Epoch {epoch} Train loss: {avg_train_loss:.4f}\")\n",
    "\n",
    "    # EVAL\n",
    "    model.eval()\n",
    "    all_preds = []\n",
    "    all_targets = []\n",
    "    with torch.no_grad():\n",
    "        for data, target in tqdm(test_loader, desc=f\"Evaluating epoch {epoch}\"):\n",
    "            data = data.to(device)\n",
    "            target = target.to(device)\n",
    "            output = model(data)\n",
    "            preds = output.argmax(dim=1).cpu().numpy()\n",
    "            all_preds.extend(preds)\n",
    "            all_targets.extend(target.cpu().numpy())\n",
    "\n",
    "    acc = accuracy_score(all_targets, all_preds)\n",
    "    prec = precision_score(all_targets, all_preds, average='macro', zero_division=0)\n",
    "    rec = recall_score(all_targets, all_preds, average='macro', zero_division=0)\n",
    "    f1 = f1_score(all_targets, all_preds, average='macro', zero_division=0)\n",
    "    print(f\"Epoch {epoch}: Accuracy={acc:.4f}, Precision={prec:.4f}, Recall={rec:.4f}, F1={f1:.4f}\")\n",
    "\n",
    "    if f1 > best_f1:\n",
    "        best_f1 = f1\n",
    "        torch.save(model.state_dict(), best_model_path)\n",
    "        print(f\"Best model saved at epoch {epoch} with F1={f1:.4f}\")"
   ]
  },
  {
   "cell_type": "code",
   "execution_count": null,
   "id": "5fbda83b",
   "metadata": {},
   "outputs": [],
   "source": []
  }
 ],
 "metadata": {
  "kernelspec": {
   "display_name": ".venv",
   "language": "python",
   "name": "python3"
  },
  "language_info": {
   "codemirror_mode": {
    "name": "ipython",
    "version": 3
   },
   "file_extension": ".py",
   "mimetype": "text/x-python",
   "name": "python",
   "nbconvert_exporter": "python",
   "pygments_lexer": "ipython3",
   "version": "3.11.12"
  }
 },
 "nbformat": 4,
 "nbformat_minor": 5
}
